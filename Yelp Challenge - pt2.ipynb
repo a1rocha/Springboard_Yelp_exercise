{
 "cells": [
  {
   "cell_type": "markdown",
   "metadata": {},
   "source": [
    "# extracting the business reviews"
   ]
  },
  {
   "cell_type": "code",
   "execution_count": 25,
   "metadata": {},
   "outputs": [],
   "source": [
    "import pandas as pd"
   ]
  },
  {
   "cell_type": "code",
   "execution_count": 26,
   "metadata": {},
   "outputs": [],
   "source": [
    "business = pd.read_csv('target.csv')"
   ]
  },
  {
   "cell_type": "code",
   "execution_count": 27,
   "metadata": {},
   "outputs": [
    {
     "data": {
      "text/html": [
       "<div>\n",
       "<style scoped>\n",
       "    .dataframe tbody tr th:only-of-type {\n",
       "        vertical-align: middle;\n",
       "    }\n",
       "\n",
       "    .dataframe tbody tr th {\n",
       "        vertical-align: top;\n",
       "    }\n",
       "\n",
       "    .dataframe thead th {\n",
       "        text-align: right;\n",
       "    }\n",
       "</style>\n",
       "<table border=\"1\" class=\"dataframe\">\n",
       "  <thead>\n",
       "    <tr style=\"text-align: right;\">\n",
       "      <th></th>\n",
       "      <th>business_id</th>\n",
       "      <th>review_count</th>\n",
       "      <th>stars</th>\n",
       "      <th>state</th>\n",
       "    </tr>\n",
       "  </thead>\n",
       "  <tbody>\n",
       "    <tr>\n",
       "      <th>0</th>\n",
       "      <td>HPA_qyMEddpAEtFof02ixg</td>\n",
       "      <td>39</td>\n",
       "      <td>4.0</td>\n",
       "      <td>MA</td>\n",
       "    </tr>\n",
       "    <tr>\n",
       "      <th>1</th>\n",
       "      <td>QciD6FbNklaJvUbLExD4Nw</td>\n",
       "      <td>76</td>\n",
       "      <td>4.0</td>\n",
       "      <td>BC</td>\n",
       "    </tr>\n",
       "    <tr>\n",
       "      <th>2</th>\n",
       "      <td>Z2JC3Yrz82kyS86zEVJG5A</td>\n",
       "      <td>16</td>\n",
       "      <td>3.0</td>\n",
       "      <td>MA</td>\n",
       "    </tr>\n",
       "    <tr>\n",
       "      <th>3</th>\n",
       "      <td>qbZJh9lR0gh4Wca96NQv9g</td>\n",
       "      <td>15</td>\n",
       "      <td>2.0</td>\n",
       "      <td>FL</td>\n",
       "    </tr>\n",
       "    <tr>\n",
       "      <th>4</th>\n",
       "      <td>L-Stk9lkVfPSFQlrFukCwA</td>\n",
       "      <td>205</td>\n",
       "      <td>3.5</td>\n",
       "      <td>MA</td>\n",
       "    </tr>\n",
       "  </tbody>\n",
       "</table>\n",
       "</div>"
      ],
      "text/plain": [
       "              business_id  review_count  stars state\n",
       "0  HPA_qyMEddpAEtFof02ixg            39    4.0    MA\n",
       "1  QciD6FbNklaJvUbLExD4Nw            76    4.0    BC\n",
       "2  Z2JC3Yrz82kyS86zEVJG5A            16    3.0    MA\n",
       "3  qbZJh9lR0gh4Wca96NQv9g            15    2.0    FL\n",
       "4  L-Stk9lkVfPSFQlrFukCwA           205    3.5    MA"
      ]
     },
     "execution_count": 27,
     "metadata": {},
     "output_type": "execute_result"
    }
   ],
   "source": [
    "business.head()"
   ]
  },
  {
   "cell_type": "code",
   "execution_count": 28,
   "metadata": {},
   "outputs": [
    {
     "name": "stdout",
     "output_type": "stream",
     "text": [
      "['HPA_qyMEddpAEtFof02ixg' 'QciD6FbNklaJvUbLExD4Nw'\n",
      " 'Z2JC3Yrz82kyS86zEVJG5A' 'qbZJh9lR0gh4Wca96NQv9g'\n",
      " 'L-Stk9lkVfPSFQlrFukCwA']\n"
     ]
    }
   ],
   "source": [
    "# we want to grab the business_id column as a list\n",
    "business_ids = business['business_id'].values\n",
    "print(business_ids[0:5])"
   ]
  },
  {
   "cell_type": "markdown",
   "metadata": {},
   "source": [
    "# filtering a large data file in chunks"
   ]
  },
  {
   "cell_type": "code",
   "execution_count": 29,
   "metadata": {},
   "outputs": [],
   "source": [
    "# the task is to create a reader object for the review json file\n",
    "# use lines = True as before but add the chunksize = 100000\n",
    "review_reader = pd.read_json(\"D:\\MEGA\\Data Science\\Springboard data science beginner - PYTHON\\yelp_dataset\\yelp_dataset\\yelp_academic_dataset_review.json\", lines=True, chunksize=100000)"
   ]
  },
  {
   "cell_type": "code",
   "execution_count": 31,
   "metadata": {},
   "outputs": [
    {
     "name": "stdout",
     "output_type": "stream",
     "text": [
      "Wall time: 23min 18s\n"
     ]
    }
   ],
   "source": [
    "%%time\n",
    "# the task is to process the file one chunk at a time so we can extract the corresponding reviews for the business_id\n",
    "# filter that chunk for rows with a business_id in business_ids\n",
    "reviews = [review.loc[review['business_id'].apply(lambda x: x in business_ids)] for review in review_reader]"
   ]
  },
  {
   "cell_type": "code",
   "execution_count": 32,
   "metadata": {},
   "outputs": [
    {
     "data": {
      "text/plain": [
       "list"
      ]
     },
     "execution_count": 32,
     "metadata": {},
     "output_type": "execute_result"
    }
   ],
   "source": [
    "type(reviews)"
   ]
  },
  {
   "cell_type": "code",
   "execution_count": 33,
   "metadata": {},
   "outputs": [
    {
     "data": {
      "text/plain": [
       "87"
      ]
     },
     "execution_count": 33,
     "metadata": {},
     "output_type": "execute_result"
    }
   ],
   "source": [
    "len(reviews)"
   ]
  },
  {
   "cell_type": "code",
   "execution_count": 34,
   "metadata": {},
   "outputs": [],
   "source": [
    "# time to convert the reviews in a dataframe\n",
    "# try using concat from pandas library\n",
    "reviews = pd.concat(reviews)"
   ]
  },
  {
   "cell_type": "code",
   "execution_count": 35,
   "metadata": {},
   "outputs": [
    {
     "data": {
      "text/plain": [
       "(479303, 9)"
      ]
     },
     "execution_count": 35,
     "metadata": {},
     "output_type": "execute_result"
    }
   ],
   "source": [
    "reviews.shape"
   ]
  },
  {
   "cell_type": "code",
   "execution_count": 36,
   "metadata": {},
   "outputs": [
    {
     "data": {
      "text/html": [
       "<div>\n",
       "<style scoped>\n",
       "    .dataframe tbody tr th:only-of-type {\n",
       "        vertical-align: middle;\n",
       "    }\n",
       "\n",
       "    .dataframe tbody tr th {\n",
       "        vertical-align: top;\n",
       "    }\n",
       "\n",
       "    .dataframe thead th {\n",
       "        text-align: right;\n",
       "    }\n",
       "</style>\n",
       "<table border=\"1\" class=\"dataframe\">\n",
       "  <thead>\n",
       "    <tr style=\"text-align: right;\">\n",
       "      <th></th>\n",
       "      <th>review_id</th>\n",
       "      <th>user_id</th>\n",
       "      <th>business_id</th>\n",
       "      <th>stars</th>\n",
       "      <th>useful</th>\n",
       "      <th>funny</th>\n",
       "      <th>cool</th>\n",
       "      <th>text</th>\n",
       "      <th>date</th>\n",
       "    </tr>\n",
       "  </thead>\n",
       "  <tbody>\n",
       "    <tr>\n",
       "      <th>10</th>\n",
       "      <td>FdoBFTjXXMn4hVnJ59EtiQ</td>\n",
       "      <td>eLAYHxHUutiXswy-CfeiUw</td>\n",
       "      <td>WQFn1A7-UAA4JT5YWiop_w</td>\n",
       "      <td>1</td>\n",
       "      <td>0</td>\n",
       "      <td>0</td>\n",
       "      <td>0</td>\n",
       "      <td>They NEVER seem to get our \\norder correct, se...</td>\n",
       "      <td>2017-09-08 23:26:10</td>\n",
       "    </tr>\n",
       "    <tr>\n",
       "      <th>57</th>\n",
       "      <td>DS4kN9ph17evKTUu0I3heQ</td>\n",
       "      <td>1hrlsEQ8l43jK4aXqQknGg</td>\n",
       "      <td>wVlxPWwFL-MrzCXim-UfWg</td>\n",
       "      <td>5</td>\n",
       "      <td>0</td>\n",
       "      <td>0</td>\n",
       "      <td>0</td>\n",
       "      <td>We had lunch there on a Sunday afternoon and i...</td>\n",
       "      <td>2018-05-08 17:14:19</td>\n",
       "    </tr>\n",
       "    <tr>\n",
       "      <th>63</th>\n",
       "      <td>J4LVJg82TjwJmjJvwwJcOg</td>\n",
       "      <td>EdJoFvhyRQnnGW7DT3ZLQA</td>\n",
       "      <td>HUEZLPIM64cDZnfHE1H3AA</td>\n",
       "      <td>5</td>\n",
       "      <td>0</td>\n",
       "      <td>0</td>\n",
       "      <td>0</td>\n",
       "      <td>its the best pizza hut i'v found in florida al...</td>\n",
       "      <td>2008-09-29 09:33:04</td>\n",
       "    </tr>\n",
       "    <tr>\n",
       "      <th>83</th>\n",
       "      <td>Z4IC8fBQwx8Y7QaiEt4OGA</td>\n",
       "      <td>yjkkzv-SHfS_jT25hWXi3g</td>\n",
       "      <td>VWuI68p6Ao_ENKaCGRazLA</td>\n",
       "      <td>4</td>\n",
       "      <td>0</td>\n",
       "      <td>0</td>\n",
       "      <td>0</td>\n",
       "      <td>Jacks is the place to be. \\nThe food is except...</td>\n",
       "      <td>2013-12-28 22:24:14</td>\n",
       "    </tr>\n",
       "    <tr>\n",
       "      <th>117</th>\n",
       "      <td>ksRo7U-FzZ2HLfI48nfUZA</td>\n",
       "      <td>_zsiwKQoiAK6KiPUho1hFQ</td>\n",
       "      <td>1BvysshfkDS2eJ0k8XiDjQ</td>\n",
       "      <td>5</td>\n",
       "      <td>0</td>\n",
       "      <td>0</td>\n",
       "      <td>0</td>\n",
       "      <td>Stopped in for lunch, was pleasantly surprised...</td>\n",
       "      <td>2017-07-08 18:43:41</td>\n",
       "    </tr>\n",
       "  </tbody>\n",
       "</table>\n",
       "</div>"
      ],
      "text/plain": [
       "                  review_id                 user_id             business_id  \\\n",
       "10   FdoBFTjXXMn4hVnJ59EtiQ  eLAYHxHUutiXswy-CfeiUw  WQFn1A7-UAA4JT5YWiop_w   \n",
       "57   DS4kN9ph17evKTUu0I3heQ  1hrlsEQ8l43jK4aXqQknGg  wVlxPWwFL-MrzCXim-UfWg   \n",
       "63   J4LVJg82TjwJmjJvwwJcOg  EdJoFvhyRQnnGW7DT3ZLQA  HUEZLPIM64cDZnfHE1H3AA   \n",
       "83   Z4IC8fBQwx8Y7QaiEt4OGA  yjkkzv-SHfS_jT25hWXi3g  VWuI68p6Ao_ENKaCGRazLA   \n",
       "117  ksRo7U-FzZ2HLfI48nfUZA  _zsiwKQoiAK6KiPUho1hFQ  1BvysshfkDS2eJ0k8XiDjQ   \n",
       "\n",
       "     stars  useful  funny  cool  \\\n",
       "10       1       0      0     0   \n",
       "57       5       0      0     0   \n",
       "63       5       0      0     0   \n",
       "83       4       0      0     0   \n",
       "117      5       0      0     0   \n",
       "\n",
       "                                                  text                date  \n",
       "10   They NEVER seem to get our \\norder correct, se... 2017-09-08 23:26:10  \n",
       "57   We had lunch there on a Sunday afternoon and i... 2018-05-08 17:14:19  \n",
       "63   its the best pizza hut i'v found in florida al... 2008-09-29 09:33:04  \n",
       "83   Jacks is the place to be. \\nThe food is except... 2013-12-28 22:24:14  \n",
       "117  Stopped in for lunch, was pleasantly surprised... 2017-07-08 18:43:41  "
      ]
     },
     "execution_count": 36,
     "metadata": {},
     "output_type": "execute_result"
    }
   ],
   "source": [
    "reviews.head()"
   ]
  },
  {
   "cell_type": "code",
   "execution_count": 37,
   "metadata": {},
   "outputs": [],
   "source": [
    "# save the output into a csv file named 'reviews_filtered.csv'\n",
    "# parameter index = False\n",
    "reviews.to_csv('reviews_filtered.csv', index=False)"
   ]
  }
 ],
 "metadata": {
  "interpreter": {
   "hash": "10c7c10abcca9f71e13b2f10493294086085e66f119835deeca8e6e5e2bd7e20"
  },
  "kernelspec": {
   "display_name": "Python 3.8.5 64-bit",
   "name": "python3"
  },
  "language_info": {
   "codemirror_mode": {
    "name": "ipython",
    "version": 3
   },
   "file_extension": ".py",
   "mimetype": "text/x-python",
   "name": "python",
   "nbconvert_exporter": "python",
   "pygments_lexer": "ipython3",
   "version": "3.8.5"
  },
  "orig_nbformat": 4
 },
 "nbformat": 4,
 "nbformat_minor": 2
}
